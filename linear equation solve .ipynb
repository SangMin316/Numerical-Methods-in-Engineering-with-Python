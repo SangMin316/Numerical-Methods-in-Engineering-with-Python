{
  "nbformat": 4,
  "nbformat_minor": 0,
  "metadata": {
    "colab": {
      "name": "Untitled4.ipynb",
      "provenance": [],
      "authorship_tag": "ABX9TyOny66IfqpA6RGVjV0mZd/E",
      "include_colab_link": true
    },
    "kernelspec": {
      "name": "python3",
      "display_name": "Python 3"
    },
    "language_info": {
      "name": "python"
    }
  },
  "cells": [
    {
      "cell_type": "markdown",
      "metadata": {
        "id": "view-in-github",
        "colab_type": "text"
      },
      "source": [
        "<a href=\"https://colab.research.google.com/github/SangMin316/Numerical-Methods-in-Engineering-with-Python/blob/main/linear%20equation%20solve%20.ipynb\" target=\"_parent\"><img src=\"https://colab.research.google.com/assets/colab-badge.svg\" alt=\"Open In Colab\"/></a>"
      ]
    },
    {
      "cell_type": "markdown",
      "source": [
        "Why do we use Numpy?"
      ],
      "metadata": {
        "id": "Lnw4mbj6hOWr"
      }
    },
    {
      "cell_type": "code",
      "execution_count": 7,
      "metadata": {
        "colab": {
          "base_uri": "https://localhost:8080/"
        },
        "id": "fZHRBBDwe5wT",
        "outputId": "7750f734-e8c9-420c-978a-071c4292940e"
      },
      "outputs": [
        {
          "output_type": "stream",
          "name": "stdout",
          "text": [
            "5.581942319869995\n"
          ]
        }
      ],
      "source": [
        "import numpy as np\n",
        "# numpy array는 연산을 캐쉬 메모리안에서 해서 접근이 빠르다\n",
        "# list 로 할떄도 행우선 연산인지, 열우선 연산인지에 따라 속도가 다름\n",
        "# 이유는 블록단위로 캐쉬메모리에 정보를 올리기 때문에\n",
        "A_np = np.ones((3000,3000)) \n",
        "import time\n",
        "start_time = time.time()\n",
        "\n",
        "for i in range(3000):\n",
        "    for j in range(3000):\n",
        "        A_np[i,j] = A_np[i,j] + 1\n",
        "\n",
        "end_time = time.time()\n",
        "k = end_time - start_time\n",
        "print(k)\n",
        "\n"
      ]
    },
    {
      "cell_type": "code",
      "source": [
        "start_time = time.time()\n",
        "A_np = A_np + A_np\n",
        "end_time = time.time()\n",
        "k = end_time - start_time\n",
        "print(k)\n"
      ],
      "metadata": {
        "colab": {
          "base_uri": "https://localhost:8080/"
        },
        "id": "j05NwGxbg3T7",
        "outputId": "2831f1d4-717e-4a53-d83b-b4a376c9bdd4"
      },
      "execution_count": 8,
      "outputs": [
        {
          "output_type": "stream",
          "name": "stdout",
          "text": [
            "0.017991304397583008\n"
          ]
        }
      ]
    },
    {
      "cell_type": "markdown",
      "source": [
        "Numpy is faster than forloop "
      ],
      "metadata": {
        "id": "8Rdvd1nnhl_s"
      }
    },
    {
      "cell_type": "markdown",
      "source": [
        "#LU decomposition\n",
        "\n",
        "\n"
      ],
      "metadata": {
        "id": "cr5MeTv2e_eW"
      }
    },
    {
      "cell_type": "markdown",
      "source": [
        "####A = [[4,3] ,[6,3]]\n",
        "####L = [[1,0],[L21,1]]\n",
        "####U = [[U11, U12], [0 ,U22]]\n",
        "####LU = [[U11, U12] ,[U11*L12, L12*U12 + U22]]\n",
        "U11 = 4, U12 = 6, L21 = 6/4, U22 = -3/2 \n"
      ],
      "metadata": {
        "id": "D0BIsCCZh7xU"
      }
    },
    {
      "cell_type": "code",
      "source": [
        "L = np.array([[1,0],[6/4,1]])\n",
        "U = np.array([[4,6],[0,-3/2]])\n",
        "\n",
        "print(L*U) \n",
        "\n"
      ],
      "metadata": {
        "colab": {
          "base_uri": "https://localhost:8080/"
        },
        "id": "0J-PItT-e90X",
        "outputId": "cde9af81-e888-4249-db17-adffcfb1ba5b"
      },
      "execution_count": 9,
      "outputs": [
        {
          "output_type": "stream",
          "name": "stdout",
          "text": [
            "[[ 4.   0. ]\n",
            " [ 0.  -1.5]]\n"
          ]
        }
      ]
    },
    {
      "cell_type": "code",
      "source": [
        "\n",
        "# A를 LU분해하시오\n",
        "A = np.array([[1,4,1],\n",
        "              [1,6,1],\n",
        "              [2,-1,2]])\n",
        "              \n",
        "  \n",
        "\n",
        "import scipy as sp\n",
        "import scipy.linalg\n",
        "A, L, U = sp.linalg.lu(A) \n",
        "print(A)\n",
        "print(L)\n",
        "print(U)\n",
        "# 출력은 permitation된 함수, L, u \n",
        "\n",
        "\n"
      ],
      "metadata": {
        "colab": {
          "base_uri": "https://localhost:8080/"
        },
        "id": "Bk6MhpxMiHQg",
        "outputId": "2149313e-aa3e-4b5c-d4fb-1ad3c94c7dad"
      },
      "execution_count": 16,
      "outputs": [
        {
          "output_type": "stream",
          "name": "stdout",
          "text": [
            "[[0. 0. 1.]\n",
            " [0. 1. 0.]\n",
            " [1. 0. 0.]]\n",
            "[[1.         0.         0.        ]\n",
            " [0.5        1.         0.        ]\n",
            " [0.5        0.69230769 1.        ]]\n",
            "[[ 2.  -1.   2. ]\n",
            " [ 0.   6.5  0. ]\n",
            " [ 0.   0.   0. ]]\n"
          ]
        }
      ]
    },
    {
      "cell_type": "markdown",
      "source": [
        "linear equation solve"
      ],
      "metadata": {
        "id": "lFWlUA8mjDdx"
      }
    },
    {
      "cell_type": "code",
      "source": [
        "import numpy as np\n",
        "a = np.array([[2,1],\n",
        "              [2,1.001]])\n",
        "        \n",
        "b =  np.array([0,1])\n",
        "\n",
        "sol = np.linalg.solve(a,b)\n",
        "print(sol)\n"
      ],
      "metadata": {
        "colab": {
          "base_uri": "https://localhost:8080/"
        },
        "id": "yAI479CQiZDU",
        "outputId": "8f3d166b-3b86-497c-cfad-9c810c6c0010"
      },
      "execution_count": 17,
      "outputs": [
        {
          "output_type": "stream",
          "name": "stdout",
          "text": [
            "[-500. 1000.]\n"
          ]
        }
      ]
    },
    {
      "cell_type": "code",
      "source": [
        "a@sol\n",
        "# = b"
      ],
      "metadata": {
        "colab": {
          "base_uri": "https://localhost:8080/"
        },
        "id": "zZjWWLl5jO75",
        "outputId": "6db9ed48-1676-49c1-f775-463fa712a573"
      },
      "execution_count": 18,
      "outputs": [
        {
          "output_type": "execute_result",
          "data": {
            "text/plain": [
              "array([0., 1.])"
            ]
          },
          "metadata": {},
          "execution_count": 18
        }
      ]
    },
    {
      "cell_type": "code",
      "source": [
        "A = np.array([[6, -4, 1],\n",
        "              [-4, 6, -4],\n",
        "              [1, -4, 6]])\n",
        "\n",
        "B = A.copy()\n",
        "B[[0,2]] = B[2,0] # Row swap \n",
        "print(B)\n",
        "B[:,[0,2]] = B[:,[2,0]] # Column swap\n",
        "print(B)\n",
        "n = len(A)              \n"
      ],
      "metadata": {
        "colab": {
          "base_uri": "https://localhost:8080/"
        },
        "id": "yrmDVJlejNLh",
        "outputId": "bb0e4888-48e7-4062-8ac7-87aca8ff21fa"
      },
      "execution_count": 19,
      "outputs": [
        {
          "output_type": "stream",
          "name": "stdout",
          "text": [
            "[[ 1  1  1]\n",
            " [-4  6 -4]\n",
            " [ 1  1  1]]\n",
            "[[ 1  1  1]\n",
            " [-4  6 -4]\n",
            " [ 1  1  1]]\n"
          ]
        }
      ]
    },
    {
      "cell_type": "code",
      "source": [
        "A = np.array([[6, -4, 1],\n",
        "              [-4, 6, -4],\n",
        "              [1, -4, 6]])\n",
        "\n",
        "B = np.array([[-14, 22],\n",
        "              [36, 18],\n",
        "              [6, 7]])\n",
        "\n",
        "#row2 -> row2 - (-2/3)*row1\n",
        "lam1 = A[1,0]/A[0,0]\n",
        "A[1,:] = A[1,:] - lam1*A[0,:]\n",
        "print(A)\n",
        "\n",
        "# row3 -> row3 - lam2*row1\n",
        "lam2 = A[2,0]/A[0,0]\n",
        "A[2,:] = A[2,:] - lam2*A[0,:]\n",
        "print(A)\n",
        "\n",
        "#row3 -> lam3*row2\n",
        "lam3 = A[2,1]/A[1,1]\n",
        "A[2,:] = A[2,:] - lam3*A[1,:]\n",
        "print(A)\n",
        "\n",
        "# 가우스 소거법으로 하삼각행렬, 상삼각행행렬로 만들수 있다면 lU 분해법 사용 가능\n",
        "\n",
        "#doolittle's decomposition\n",
        "#A = LU\n",
        "#A@x = b\n",
        "#L@U@x = b, u@x = y\n",
        "#L@y = b 풀수있어 L이 하삼각행렬이라 전진대입\n",
        "#U@X = y 후진대입으로 풀수 있음\n",
        "\n",
        "#LU = A.copy()\n",
        "#LU[1,0] = lam1\n",
        "#LU[2,0] = lam2\n",
        "#LU[3,0] = lam3"
      ],
      "metadata": {
        "colab": {
          "base_uri": "https://localhost:8080/"
        },
        "id": "uWUu3F57jgza",
        "outputId": "11475366-be7a-441d-844b-0c98fb9bfd16"
      },
      "execution_count": 29,
      "outputs": [
        {
          "output_type": "stream",
          "name": "stdout",
          "text": [
            "[[ 6 -4  1]\n",
            " [ 0  3 -3]\n",
            " [ 1 -4  6]]\n",
            "[[ 6 -4  1]\n",
            " [ 0  3 -3]\n",
            " [ 0 -3  5]]\n",
            "[[ 6 -4  1]\n",
            " [ 0  3 -3]\n",
            " [ 0  0  2]]\n"
          ]
        }
      ]
    }
  ]
}